{
 "cells": [
  {
   "cell_type": "markdown",
   "id": "5f09bc97-b69d-41f4-94be-697e74eeeda4",
   "metadata": {},
   "source": [
    "# Big Ideas Week 4\n",
    "\n",
    "### Big Idea 1: For loops \n",
    "For loops are essential in programming, especially for iterating over data structures (Exmaple: lists, arrays, tuples, dictionary).\n",
    "\n",
    "- Loops help process values efficiently and create repeatable actions.\n",
    "- They are widely used in handling collections, automating tasks, and improving code readability.\n",
    "- Let’s explore the key concepts and practical applications of for loops."
   ]
  },
  {
   "cell_type": "code",
   "execution_count": null,
   "id": "3c7be3c5",
   "metadata": {},
   "outputs": [],
   "source": [
    "char_groups = [['E', 'n', 'c', 'h', '\\n'], ['p', 'r', 'o',  '\\n'],  ['I', 'n', ], ['w', 'a', 'r', 'm', ' ']]\n",
    "\n",
    "# Loop 1\n",
    "for group in char_groups:\n",
    "    print(group)\n",
    "\n",
    "# Loop 2\n",
    "for num in range(0, 10):\n",
    "    print(num)\n",
    "\n",
    "# Nested Loops\n",
    "for group in char_groups:\n",
    "    for char in group:\n",
    "        print(char, end=\"\")\n",
    "\n"
   ]
  },
  {
   "cell_type": "markdown",
   "id": "d9dd78b3-6821-4454-8767-7b7578e70ccc",
   "metadata": {},
   "source": [
    "### Big Idea 2: Fancy Loops Exits\n",
    "- You can control loop execution using the `continue` and  `break` statements.\n",
    "- `continue` skips the current iteration and moves directly to the next cycle of the loop.\n",
    "- `break` immediately stops the loop and exits.\n",
    "- These statements enhance loop flexibility, improve efficiency, and allow precise control over execution flow based on specific conditions."
   ]
  },
  {
   "cell_type": "code",
   "execution_count": 5,
   "id": "6246fbd7-849e-4503-9e23-512565ab0511",
   "metadata": {},
   "outputs": [],
   "source": [
    "file_contents = ['# This is a file that records', '# Entries every 15 minutes from a meter', '# Property of p36'\n",
    "                 '# Next lines are from 10-11', '5-20-2018 1000 15', '5-20-2018 1015 16', '5-20-2018 1030 14', \n",
    "                 '5-20-2018 1045 -', '# Next lines are from 11-12', '5-20-2018 1100 12', '5-20-2018 1115 10', \n",
    "                 '5-20-2018 1130 12', '5-20-2018 1145 18', '# Next lines are from 12-1', \n",
    "                 '5-21-2018 1200 12', '5-21-2018 1215 15',]\n",
    "\n",
    "# Solution 1  with condition\n",
    "for entry in file_contents:\n",
    "    if entry[0] != '#':\n",
    "        print(entry)\n",
    "\n",
    "# Solution 2 with continue\n",
    "for entry in file_contents:\n",
    "    if entry[0] == '#':\n",
    "        continue\n",
    "    else:\n",
    "        print(entry)\n",
    "\n",
    "# Solution 3 with break\n",
    "items = []\n",
    "while True:\n",
    "    item = input(\"Add item to to-do list (or 'q' to quit): \")\n",
    "    if item.lower() == 'q':  # Handles both 'q' and 'Q'\n",
    "        break\n",
    "    items.append(item)\n",
    "\n",
    "print(items)\n",
    "\n",
    "# Solution 4 with break\n",
    "while True:\n",
    "    num = int(input(\"Type number between 1 and 5: \"))\n",
    "    if num < 1 or num > 5:\n",
    "        print(\"Invalid number. Exit from loop\")\n",
    "        break\n",
    "    else:\n",
    "        print(num)\n",
    "    \n",
    "\n",
    "\n"
   ]
  },
  {
   "cell_type": "markdown",
   "id": "0f457f79-a3ea-4a05-bc8e-cb1188bc88e2",
   "metadata": {},
   "source": [
    "### Big Idea 3:  Algorithms: Bisection Search\n",
    "\n",
    "One of the most efficient search algorithms, which can be used as a pattern in solving various problems.\n",
    "\n",
    "##### Facts\n",
    "- Divide and Conquer: Repeatedly splits the range in half.\n",
    "- Requires a sorted list (for searching elements).\n",
    "- Fast and efficient: Runs in O(log n) time complexity.\n",
    "\n"
   ]
  },
  {
   "cell_type": "code",
   "execution_count": null,
   "id": "d604e28e-7096-4f0f-8de7-cc022aeea951",
   "metadata": {},
   "outputs": [],
   "source": [
    "# Solution 1 without prints\n",
    "def bisection_search1(arr, target):\n",
    "    left, right = 0, len(arr) - 1\n",
    "\n",
    "    while left <= right:\n",
    "        mid = (left + right) // 2 \n",
    "        if arr[mid] == target:\n",
    "            print(f\"Element found at index {mid}!\")\n",
    "            return mid \n",
    "        elif arr[mid] < target:\n",
    "            left = mid + 1 \n",
    "        else:\n",
    "            right = mid - 1 \n",
    "\n",
    "    print(\"Element not found.\")\n",
    "    return -1 \n",
    "\n",
    "\n",
    "\n",
    "# Solution 2 with prints\n",
    "def bisection_search2(arr, target):\n",
    "    left, right = 0, len(arr) - 1\n",
    "    iteration = 1\n",
    "\n",
    "    while left <= right:\n",
    "        mid = (left + right) // 2  # Find the middle index\n",
    "        \n",
    "        print(f\"Iteration {iteration}: Searching between indexes {left} and {right}, middle index: {mid}, middle value: {arr[mid]}\")\n",
    "        iteration += 1 \n",
    "        \n",
    "        if arr[mid] == target:\n",
    "            print(f\"Element found at index {mid}!\")\n",
    "            return mid \n",
    "        elif arr[mid] < target:\n",
    "            print(f\"Moving right: Setting left = {mid + 1}\")\n",
    "            left = mid + 1 \n",
    "        else:\n",
    "            print(f\"Moving left: Setting right = {mid - 1}\")\n",
    "            right = mid - 1 \n",
    "\n",
    "    print(\"Element not found.\")\n",
    "    return -1 \n",
    "\n",
    "\n",
    "\n",
    "\n",
    "sorted_list = list(range(1, 1001)) \n",
    "\n",
    "target = 725\n",
    "\n",
    "result = bisection_search2(sorted_list, target)\n",
    "\n",
    "\n",
    "\n",
    "\n",
    "\n"
   ]
  },
  {
   "cell_type": "markdown",
   "id": "dd3b86bc-9262-4c79-b2cc-26889e7a21bf",
   "metadata": {},
   "source": [
    "- **Why `Pet.`?**: We use `Pet.` here to explicitly refer to the parent class’s `__init__` method. This ensures that the `Pet` part of the `Dog` object is correctly initialized with the `name` attribute."
   ]
  },
  {
   "cell_type": "markdown",
   "id": "9bfa9bab-4abd-486b-8557-75b59f56db38",
   "metadata": {},
   "source": []
  },
  {
   "cell_type": "code",
   "execution_count": 2,
   "id": "0f36a40b-c03e-4993-89aa-c998ac1345b1",
   "metadata": {},
   "outputs": [],
   "source": []
  },
  {
   "cell_type": "code",
   "execution_count": null,
   "id": "754bd81d-7d24-41c2-998d-f584124540ba",
   "metadata": {},
   "outputs": [],
   "source": []
  },
  {
   "cell_type": "markdown",
   "id": "2b5c36cc-64b4-44f4-872a-c941462a6073",
   "metadata": {},
   "source": []
  },
  {
   "cell_type": "code",
   "execution_count": 7,
   "id": "656cfea0-085e-4d8f-abeb-3e2176282ba6",
   "metadata": {},
   "outputs": [],
   "source": []
  },
  {
   "cell_type": "markdown",
   "id": "7c059e49-da91-4eab-a61e-3f424c9f3a14",
   "metadata": {},
   "source": []
  },
  {
   "cell_type": "markdown",
   "id": "44ffbab6-fa2a-4e50-bac4-0c6f2e9ca6f9",
   "metadata": {},
   "source": []
  },
  {
   "cell_type": "code",
   "execution_count": null,
   "id": "da1efc52-677f-482e-9e4d-7d2680ede37a",
   "metadata": {},
   "outputs": [],
   "source": []
  }
 ],
 "metadata": {
  "kernelspec": {
   "display_name": "base",
   "language": "python",
   "name": "python3"
  },
  "language_info": {
   "codemirror_mode": {
    "name": "ipython",
    "version": 3
   },
   "file_extension": ".py",
   "mimetype": "text/x-python",
   "name": "python",
   "nbconvert_exporter": "python",
   "pygments_lexer": "ipython3",
   "version": "3.11.4"
  }
 },
 "nbformat": 4,
 "nbformat_minor": 5
}
